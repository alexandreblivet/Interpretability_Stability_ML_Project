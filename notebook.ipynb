{
 "cells": [
  {
   "cell_type": "markdown",
   "metadata": {},
   "source": [
    "# ML Interpretability and Stability Project\n",
    "\n",
    "This notebook tests the functions in `ml_models.py` and implements the project requirements:\n",
    "\n",
    "**Step 1**: Use estimated default probability (DP) and implement surrogate models to interpret the unknown model\n",
    "\n",
    "**Step 2**: Estimate our own black-box ML model to forecast default"
   ]
  },
  {
   "cell_type": "markdown",
   "metadata": {},
   "source": [
    "## Setup and Imports"
   ]
  },
  {
   "cell_type": "code",
   "execution_count": null,
   "metadata": {},
   "outputs": [],
   "source": [
    "import sys\n",
    "import os\n",
    "\n",
    "# Add src directory to path\n",
    "sys.path.append('src')\n",
    "\n",
    "# Import our custom module\n",
    "from ml_models import DefaultProbabilityAnalysis\n",
    "\n",
    "# Import additional libraries for testing\n",
    "import pandas as pd\n",
    "import numpy as np\n",
    "import matplotlib.pyplot as plt\n",
    "import seaborn as sns\n",
    "\n",
    "# Set plotting style\n",
    "plt.style.use('default')\n",
    "sns.set_palette(\"husl\")\n",
    "\n",
    "print(\"All imports successful!\")"
   ]
  },
  {
   "cell_type": "markdown",
   "metadata": {},
   "source": [
    "## Initialize Analysis\n",
    "\n",
    "First, let's initialize our analysis class and check if the data file exists."
   ]
  },
  {
   "cell_type": "code",
   "execution_count": null,
   "metadata": {},
   "outputs": [],
   "source": [
    "# Check if data file exists\n",
    "data_path = 'data/dataproject2025 (1).csv'\n",
    "\n",
    "if os.path.exists(data_path):\n",
    "    print(f\"✓ Data file found: {data_path}\")\n",
    "    \n",
    "    # Initialize analysis\n",
    "    analysis = DefaultProbabilityAnalysis(data_path)\n",
    "    print(\"✓ Analysis class initialized successfully\")\n",
    "else:\n",
    "    print(f\"✗ Data file not found: {data_path}\")\n",
    "    print(\"Available files in data directory:\")\n",
    "    if os.path.exists('data'):\n",
    "        for file in os.listdir('data'):\n",
    "            print(f\"  - {file}\")\n",
    "    else:\n",
    "        print(\"  Data directory does not exist\")"
   ]
  },
  {
   "cell_type": "markdown",
   "metadata": {},
   "source": [
    "## Step 1: Data Loading and Preprocessing\n",
    "\n",
    "Load and preprocess the dataset to prepare for analysis."
   ]
  },
  {
   "cell_type": "code",
   "execution_count": null,
   "metadata": {},
   "outputs": [],
   "source": [
    "# Load and preprocess data\n",
    "try:\n",
    "    df = analysis.load_and_preprocess_data()\n",
    "    print(\"\\n✓ Data loaded and preprocessed successfully\")\n",
    "    \n",
    "    # Display basic information about the dataset\n",
    "    print(f\"\\nDataset shape: {df.shape}\")\n",
    "    print(f\"Number of features: {len(analysis.feature_cols)}\")\n",
    "    print(f\"Default rate: {df['target'].mean():.2%}\")\n",
    "    \n",
    "    # Show first few rows\n",
    "    print(\"\\nFirst 5 rows of key columns:\")\n",
    "    key_cols = ['target', 'Predicted probabilities'] + analysis.feature_cols[:5]\n",
    "    display(df[key_cols].head())\n",
    "    \n",
    "except Exception as e:\n",
    "    print(f\"✗ Error loading data: {e}\")"
   ]
  },
  {
   "cell_type": "markdown",
   "metadata": {},
   "source": [
    "## Step 2: Exploratory Data Analysis\n",
    "\n",
    "Perform exploratory analysis on the default probabilities (DP) from the unknown model."
   ]
  },
  {
   "cell_type": "code",
   "execution_count": null,
   "metadata": {},
   "outputs": [],
   "source": [
    "# Perform exploratory analysis\n",
    "try:\n",
    "    analysis.exploratory_analysis()\n",
    "    print(\"\\n✓ Exploratory analysis completed\")\n",
    "except Exception as e:\n",
    "    print(f\"✗ Error in exploratory analysis: {e}\")"
   ]
  },
  {
   "cell_type": "markdown",
   "metadata": {},
   "source": [
    "## Step 3: Implement Surrogate Models (Project Step 1)\n",
    "\n",
    "Implement surrogate models to interpret the unknown model used to generate the default probabilities."
   ]
  },
  {
   "cell_type": "code",
   "execution_count": null,
   "metadata": {},
   "outputs": [],
   "source": [
    "# Implement surrogate models\n",
    "try:\n",
    "    lr_surrogate, dt_surrogate, linear_importance, tree_importance = analysis.implement_surrogate_models()\n",
    "    print(\"\\n✓ Surrogate models implemented successfully\")\n",
    "    \n",
    "    print(\"\\n=== SURROGATE MODELS SUMMARY ===\")\n",
    "    print(\"\\n1. Linear Regression Surrogate:\")\n",
    "    print(\"   - Provides global interpretability through feature coefficients\")\n",
    "    print(\"   - Shows linear relationships between features and DP\")\n",
    "    \n",
    "    print(\"\\n2. Decision Tree Surrogate:\")\n",
    "    print(\"   - Provides rule-based interpretability\")\n",
    "    print(\"   - Captures non-linear relationships and interactions\")\n",
    "    \n",
    "    print(\"\\nTop 5 most important features (Linear Model):\")\n",
    "    display(linear_importance.head())\n",
    "    \n",
    "    print(\"\\nTop 5 most important features (Decision Tree):\")\n",
    "    display(tree_importance.head())\n",
    "    \n",
    "except Exception as e:\n",
    "    print(f\"✗ Error implementing surrogate models: {e}\")"
   ]
  },
  {
   "cell_type": "markdown",
   "metadata": {},
   "source": [
    "## Step 4: Build Black-box Models (Project Step 2)\n",
    "\n",
    "Develop our own black-box machine learning models to forecast default."
   ]
  },
  {
   "cell_type": "code",
   "execution_count": null,
   "metadata": {},
   "outputs": [],
   "source": [
    "# Build black-box models\n",
    "try:\n",
    "    rf_model, lr_model, rf_importance = analysis.build_blackbox_model()\n",
    "    print(\"\\n✓ Black-box models built successfully\")\n",
    "    \n",
    "    print(\"\\n=== BLACK-BOX MODELS SUMMARY ===\")\n",
    "    print(\"\\n1. Random Forest Classifier:\")\n",
    "    print(\"   - Ensemble method with high predictive power\")\n",
    "    print(\"   - Provides feature importance rankings\")\n",
    "    \n",
    "    print(\"\\n2. Logistic Regression:\")\n",
    "    print(\"   - Baseline linear classifier\")\n",
    "    print(\"   - Provides probability estimates and interpretable coefficients\")\n",
    "    \n",
    "    print(\"\\nTop 5 most important features (Random Forest):\")\n",
    "    display(rf_importance.head())\n",
    "    \n",
    "except Exception as e:\n",
    "    print(f\"✗ Error building black-box models: {e}\")"
   ]
  },
  {
   "cell_type": "markdown",
   "metadata": {},
   "source": [
    "## Step 5: Generate Summary Report"
   ]
  },
  {
   "cell_type": "code",
   "execution_count": null,
   "metadata": {},
   "outputs": [],
   "source": [
    "# Generate comprehensive summary report\n",
    "try:\n",
    "    analysis.generate_summary_report()\n",
    "    print(\"\\n✓ Summary report generated successfully\")\n",
    "except Exception as e:\n",
    "    print(f\"✗ Error generating summary report: {e}\")"
   ]
  },
  {
   "cell_type": "markdown",
   "metadata": {},
   "source": [
    "## Step 6: Additional Analysis and Insights"
   ]
  },
  {
   "cell_type": "code",
   "execution_count": null,
   "metadata": {},
   "outputs": [],
   "source": [
    "# Additional analysis - Compare feature importance across models\n",
    "try:\n",
    "    print(\"\\n=== FEATURE IMPORTANCE COMPARISON ===\")\n",
    "    \n",
    "    # Get top 10 features from each model\n",
    "    top_linear = set(linear_importance.head(10)['feature'])\n",
    "    top_tree = set(tree_importance.head(10)['feature'])\n",
    "    top_rf = set(rf_importance.head(10)['feature'])\n",
    "    \n",
    "    # Find common important features\n",
    "    common_features = top_linear.intersection(top_tree).intersection(top_rf)\n",
    "    \n",
    "    print(f\"\\nFeatures important across ALL models ({len(common_features)}):\")\n",
    "    for feature in common_features:\n",
    "        print(f\"  - {feature}\")\n",
    "    \n",
    "    # Features important in at least 2 models\n",
    "    two_models = (top_linear.intersection(top_tree).union(\n",
    "                  top_linear.intersection(top_rf)).union(\n",
    "                  top_tree.intersection(top_rf)))\n",
    "    \n",
    "    print(f\"\\nFeatures important in at least 2 models ({len(two_models)}):\")\n",
    "    for feature in two_models:\n",
    "        print(f\"  - {feature}\")\n",
    "        \n",
    "except Exception as e:\n",
    "    print(f\"Error in additional analysis: {e}\")"
   ]
  },
  {
   "cell_type": "markdown",
   "metadata": {},
   "source": [
    "## Step 7: Model Validation and Testing"
   ]
  },
  {
   "cell_type": "code",
   "execution_count": null,
   "metadata": {},
   "outputs": [],
   "source": [
    "# Test individual functions to ensure they work correctly\n",
    "print(\"=== FUNCTION TESTING ===\")\n",
    "\n",
    "# Test 1: Check if all models are properly trained\n",
    "try:\n",
    "    # Test surrogate models\n",
    "    test_features = analysis.df[analysis.feature_cols].iloc[:5]\n",
    "    test_features_scaled = analysis.scaler.transform(test_features)\n",
    "    \n",
    "    lr_pred = lr_surrogate.predict(test_features_scaled)\n",
    "    dt_pred = dt_surrogate.predict(test_features)\n",
    "    \n",
    "    print(\"✓ Surrogate models can make predictions\")\n",
    "    \n",
    "    # Test black-box models\n",
    "    rf_pred = rf_model.predict(test_features)\n",
    "    lr_pred_bb = lr_model.predict(test_features_scaled)\n",
    "    \n",
    "    print(\"✓ Black-box models can make predictions\")\n",
    "    \n",
    "    print(\"\\nSample predictions:\")\n",
    "    print(f\"Linear Surrogate (DP): {lr_pred[:3]}\")\n",
    "    print(f\"Tree Surrogate (DP): {dt_pred[:3]}\")\n",
    "    print(f\"Random Forest (Default): {rf_pred[:3]}\")\n",
    "    print(f\"Logistic Regression (Default): {lr_pred_bb[:3]}\")\n",
    "    \n",
    "except Exception as e:\n",
    "    print(f\"✗ Error in model testing: {e}\")\n",
    "\n",
    "print(\"\\n=== ALL TESTS COMPLETED ===\")"
   ]
  },
  {
   "cell_type": "markdown",
   "metadata": {},
   "source": [
    "## Conclusion\n",
    "\n",
    "This notebook successfully implements and tests:\n",
    "\n",
    "### Step 1: Surrogate Model Implementation ✓\n",
    "- **Linear Regression Surrogate**: Interprets the unknown DP model through linear relationships\n",
    "- **Decision Tree Surrogate**: Provides rule-based interpretation with non-linear capabilities\n",
    "- Both models help understand how the original model generates default probabilities\n",
    "\n",
    "### Step 2: Black-box Model Development ✓\n",
    "- **Random Forest Classifier**: High-performance ensemble model for default prediction\n",
    "- **Logistic Regression**: Baseline linear classifier with interpretable coefficients\n",
    "- Both models forecast default using the same features as the original unknown model\n",
    "\n",
    "### Key Insights:\n",
    "1. **Model Performance**: Compare surrogate model fidelity and black-box model accuracy\n",
    "2. **Feature Importance**: Identify key risk factors across different model types\n",
    "3. **Interpretability**: Balance between model complexity and explainability\n",
    "4. **Stability**: Analyze consistency of important features across models"
   ]
  }
 ],
 "metadata": {
  "kernelspec": {
   "display_name": "Python 3",
   "language": "python",
   "name": "python3"
  },
  "language_info": {
   "codemirror_mode": {
    "name": "ipython",
    "version": 3
   },
   "file_extension": ".py",
   "mimetype": "text/x-python",
   "name": "python",
   "nbconvert_exporter": "python",
   "pygments_lexer": "ipython3",
   "version": "3.8.5"
  }
 },
 "nbformat": 4,
 "nbformat_minor": 4
}